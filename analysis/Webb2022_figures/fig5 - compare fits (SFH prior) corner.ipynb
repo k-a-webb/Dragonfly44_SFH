{
 "cells": [
  {
   "cell_type": "code",
   "execution_count": 1,
   "id": "median-contributor",
   "metadata": {},
   "outputs": [],
   "source": [
    "# imports \n",
    "import numpy as np\n",
    "import matplotlib.pyplot as plt\n",
    "%matplotlib inline\n",
    "\n",
    "import os\n",
    "path_base = os.getcwd().split('Dragonfly44_SFH')[0] # hack, but works\n",
    "\n",
    "from Dragonfly44_SFH.utils import prospect_io, plotting, transforms\n",
    "from figure_style import *\n",
    "from Dragonfly44_SFH.utils.styles import *"
   ]
  },
  {
   "cell_type": "code",
   "execution_count": 2,
   "id": "exact-verification",
   "metadata": {},
   "outputs": [],
   "source": [
    "path_data = path_base+ \"Dragonfly44_SFH/data/\"\n",
    "file_data = path_data+\"Dragonfly44/obs_phot_specKCWI_sigma110.h5\"\n",
    "\n",
    "# contains filenames of Prospector output\n",
    "from Dragonfly44_SFH.fitting.output.fits_DF44_summary import *\n",
    "path_fits = path_base+ \"Dragonfly44_SFH/fitting/output/\"\n"
   ]
  },
  {
   "cell_type": "code",
   "execution_count": 3,
   "id": "registered-teacher",
   "metadata": {},
   "outputs": [
    {
     "name": "stderr",
     "output_type": "stream",
     "text": [
      "/var/folders/80/0tdn3l0x0cj7l42vzb8rr2xh0000gn/T/ipykernel_5632/1969385897.py:14: DeprecationWarning: Conversion of an array with ndim > 0 to a scalar is deprecated, and will error in future. Ensure you extract a single element from your array before performing this operation. (Deprecated NumPy 1.25.)\n",
      "  zobs = float(model1.params['zred'])\n"
     ]
    }
   ],
   "source": [
    "label0 = \"SFH prior:\" # label which related to label1, label2\n",
    "\n",
    "\n",
    "result_file1 = path_fits+ fit_aD1_phot_specKCWI\n",
    "label1 = 'Extended'\n",
    "color1 = color_aD1\n",
    "result1, obs1, model1 = prospect_io.read_results( result_file1, file_data=file_data )\n",
    "\n",
    "result_file2 = path_fits+ fit_aD02_phot_specKCWI\n",
    "label2 = 'Concentrated'\n",
    "color2 = color_aD02\n",
    "result2, obs2, model2 = prospect_io.read_results( result_file2, file_data=file_data )\n",
    "\n",
    "zobs = float(model1.params['zred'])\n",
    "\n"
   ]
  },
  {
   "cell_type": "code",
   "execution_count": 4,
   "id": "antique-cycling",
   "metadata": {},
   "outputs": [],
   "source": [
    "# setup styling\n",
    "\n",
    "obs_params1 = {'marker':'o', 'color':'k', 'ms':20}\n",
    "obs_params2 = obs_params1\n",
    "\n",
    "posts_params1={'color':color1}\n",
    "posts_params2={'color':color2}\n",
    "\n",
    "bestfit_params1 = marker_params_aD1\n",
    "bestfit_params2 = marker_params_aD02\n",
    "\n",
    "plot_params1 = dict( obs=obs1, result=result1, zobs=zobs, label=label1,\n",
    "                     obs_params=obs_params1, posts_params=posts_params1, bestfit_params=bestfit_params1 )\n",
    "\n",
    "plot_params2 = dict( obs=obs2, result=result2, zobs=zobs, label=label2,\n",
    "                     obs_params=obs_params2, posts_params=posts_params2, bestfit_params=bestfit_params2 )\n"
   ]
  },
  {
   "cell_type": "code",
   "execution_count": 5,
   "id": "fatty-baker",
   "metadata": {},
   "outputs": [],
   "source": [
    "showpars = ['dust2','Av','logzsol','logmass_stellar',\"mwa\"]\n",
    "\n",
    "for p in ['Av','logmass_stellar','mwa']:\n",
    "    parameter_labels_with_units[p] = '*'+parameter_labels_with_units[p]\n",
    "\n",
    "showpar_labels = [ parameter_labels_with_units[p] for p in showpars ]\n",
    "\n",
    "\n",
    "parameter_bounds['dust2'] = [0,0.5]\n",
    "parameter_bounds['Av'] = [-0.2,1]\n",
    "parameter_bounds['logzsol'] = [-1.35,-1.1]\n",
    "parameter_bounds['logmass_stellar'] = [8.1,8.5]\n",
    "parameter_bounds['mwa'] = [9,13.5]\n",
    "showpar_bounds = [ parameter_bounds[p] for p in showpars ]\n"
   ]
  },
  {
   "cell_type": "code",
   "execution_count": 6,
   "id": "tropical-motion",
   "metadata": {
    "code_folding": [
     0,
     10
    ]
   },
   "outputs": [],
   "source": [
    "if True: # corner setup\n",
    "    from corner.core import _set_xlim,_set_ylim,hist2d,_get_fig_axes\n",
    "    from matplotlib.ticker import MaxNLocator, NullLocator, ScalarFormatter, MultipleLocator\n",
    "    from matplotlib.legend_handler import HandlerTuple\n",
    "    from scipy.ndimage import gaussian_filter\n",
    "    from prospect.sources.constants import cosmo # In my case WMAP9\n",
    "\n",
    "    whspace = 0.05  # w/hspace size\n",
    "    \n",
    "\n",
    "if True: # corner params *********** \n",
    "    K3, K2 = 0, 0\n",
    "    labelpad = 0.13\n",
    "    fig_width = fig_width_one\n",
    "\n",
    "    \n",
    "    K = len(showpars)\n",
    "    factor = 1\n",
    "    lbdim = 0.5 * factor  # size of left/bottom margin\n",
    "    trdim = 0.2 * factor  # size of top/right margin\n",
    "    plotdim = factor * K + factor * (K - 1.0) * whspace\n",
    "    dim = lbdim + plotdim + trdim\n",
    "    lb = lbdim / dim\n",
    "    tr = (lbdim + plotdim) / dim\n",
    "\n",
    "    dim2 = factor * K2 + factor * (K2 - 1.0) * whspace\n",
    "    dim3 = factor * K3 + factor * (K3 - 1.0) * whspace\n",
    "    \n",
    "    hist_bin_factor = np.full( K, 1.)\n",
    "    bins = np.full( K, 20).astype(int)\n",
    "\n",
    "    hist_kwargs = dict()\n",
    "    hist2d_kwargs = dict( quiet=False,\n",
    "                            plot_datapoints=1,\n",
    "                            plot_density=1,\n",
    "                            plot_contours=1,\n",
    "                            no_fill_contours=0,\n",
    "                            fill_contours=False,\n",
    "                            contour_kwargs=None,\n",
    "                            contourf_kwargs=None,\n",
    "                            data_kwargs=None,\n",
    "                            pcolor_kwargs=None )\n",
    "\n"
   ]
  },
  {
   "cell_type": "code",
   "execution_count": 7,
   "id": "incorporate-ensemble",
   "metadata": {
    "code_folding": [
     1,
     6,
     15
    ]
   },
   "outputs": [],
   "source": [
    "# values for DF44 from literature for comparison\n",
    "truths_from_lit = {\n",
    "                  \"logmass_stellar\": np.log10(3e8), # van Dokkum\n",
    "                  \"logmass\": np.log10(3e8)+0.25, # rough approx of mass loss\n",
    "                 }\n",
    "\n",
    "if True: #v22 logzsol \n",
    "    # Villaume+2021 logzsol\n",
    "    # I'm pretty sure that the metallicity you get from fsps/prospector is the \"isochrone\" metallicity from alf, which is not what I quote in my paper. \n",
    "    # I'm attaching the posterior of isochrone metallicity from my alf fit to DF44 so you can remake that comparison.\n",
    "    file_data_V22_Z = path_data+'Dragonfly44/Villaume2022_KCWI/df44_zh_posterior_for_kristi_10_12_2021.dat'\n",
    "    villaume2021_logzsol = np.loadtxt( file_data_V22_Z, unpack=1)\n",
    "    qs_villaume2021_logzsol = np.quantile(villaume2021_logzsol, [0.16,0.5,0.84])\n",
    "    truths_from_lit[\"logzsol\"] = qs_villaume2021_logzsol[1]\n",
    "    \n",
    "if True: # S44 logmass\n",
    "    x = 2.1e8\n",
    "    ex = 0.5e8\n",
    "    y = np.log10(x)\n",
    "    ey = ex/x/np.log(10)\n",
    "    qs_saifolahi2022_logmass = ( y-ey, y, y+ey )\n",
    "    truths_from_lit[\"logmass_stellar_s22\"] = qs_saifolahi2022_logmass[1]\n",
    "\n"
   ]
  },
  {
   "cell_type": "code",
   "execution_count": 8,
   "id": "adolescent-working",
   "metadata": {
    "code_folding": [
     0
    ]
   },
   "outputs": [],
   "source": [
    "# Format the quantile display.\n",
    "title_fmt = \".2f\"\n",
    "fmt = \"{{0:{0}}}\".format(title_fmt).format\n",
    "title = r\"${{{0}}}_{{-{1}}}^{{+{2}}}$\"\n",
    "\n",
    "from Dragonfly44_SFH.utils.misc_utils import weighted_quantile\n",
    "from Dragonfly44_SFH.utils.transforms import chain_to_param\n",
    "\n",
    "qnt_titles = {}\n",
    "for i,result in enumerate([ result1, result2 ]):\n",
    "    qnt_titles[str(i)] = {}\n",
    "    \n",
    "    for j,par in enumerate( showpars ):\n",
    "        x = chain_to_param( param=par, **result )\n",
    "        x = np.squeeze(x)\n",
    "        q_16, q_50, q_84 = weighted_quantile( x, [0.16, 0.5, 0.84], result['weights'] )\n",
    "        q_m, q_p = q_50 - q_16, q_84 - q_50\n",
    "        qnt_titles[str(i)][par] = title.format(fmt(q_50), fmt(q_m), fmt(q_p))\n"
   ]
  },
  {
   "cell_type": "code",
   "execution_count": 12,
   "id": "53b8280b-815e-4674-9378-8bc4231c61f7",
   "metadata": {},
   "outputs": [],
   "source": [
    "# may be necessary to change matplotlib backend to use text colour function\n",
    "import matplotlib\n",
    "matplotlib.use('Agg')"
   ]
  },
  {
   "cell_type": "code",
   "execution_count": 13,
   "id": "tribal-consultancy",
   "metadata": {
    "code_folding": [
     23
    ]
   },
   "outputs": [
    {
     "name": "stderr",
     "output_type": "stream",
     "text": [
      "/var/folders/80/0tdn3l0x0cj7l42vzb8rr2xh0000gn/T/ipykernel_5632/4045242745.py:63: UserWarning: Matplotlib is currently using agg, which is a non-GUI backend, so cannot show the figure.\n",
      "  plt.show()\n"
     ]
    }
   ],
   "source": [
    "xparams = dict( labels=showpar_labels, smooth=1, range=showpar_bounds, bins=bins, quantiles=[], \n",
    "                hist2d_kwargs=hist2d_kwargs, \n",
    "              )\n",
    "params = dict( showpars=showpars, smooth=1, show_titles=1, label=showpar_labels, return_fig=1, \n",
    "               figsize=(dim+dim2,dim+dim3),\n",
    "               xparams=xparams )\n",
    "\n",
    "fig = plotting.plot_corner( result1, color=color1, **params  )\n",
    "fig = plotting.plot_corner( result2, color=color2, fig=fig, **params  )\n",
    "\n",
    "axes = fig.get_axes()\n",
    "ndim = len(showpars)\n",
    "axes = np.array(axes).reshape(ndim,ndim)\n",
    "K3 = 0\n",
    "\n",
    "if True: # labels \n",
    "\n",
    "    annparams = dict( fontsize=15 )   \n",
    "    string_list = [ label0+'  ', label1, ',  ', label2]\n",
    "    scolor_list = ['k',color1,'k', color2]\n",
    "    x0,y0 = -0.15,0.6\n",
    "    plotting.multicolor_text( axes[0,3] , fig, x0,y0, string_list, scolor_list, **annparams )\n",
    "\n",
    "if True: # truths \n",
    "#     plotting.overplot_lines_2(axes[K3:,:K], truths, colors=col_truths, ls='-')\n",
    "    \n",
    "    for i,par in enumerate(showpars):\n",
    "        if par=='logzsol':\n",
    "            for ax in axes[K3+i,:i]:\n",
    "                ax.axhline( qs_villaume2021_logzsol[1], color='k', ls='--' )\n",
    "                ax.axhspan( qs_villaume2021_logzsol[0], qs_villaume2021_logzsol[2], color='lightgrey', alpha=0.3, lw=0 )\n",
    "            for ax in axes[K3+i:,i]:\n",
    "                ax.axvline( qs_villaume2021_logzsol[1], color='k', ls='--' )\n",
    "                ax.axvspan( qs_villaume2021_logzsol[0], qs_villaume2021_logzsol[2], color='lightgrey', alpha=0.3, lw=0 )\n",
    "            \n",
    "        if par=='logmass_stellar':\n",
    "            for ax in axes[K3+i,:i]:\n",
    "                ax.axhline( truths_from_lit[\"logmass_stellar\"], color='k', ls='-',  )\n",
    "                ax.axhline( qs_saifolahi2022_logmass[1], color='k', ls=':',  )\n",
    "                ax.axhspan( qs_saifolahi2022_logmass[0], qs_saifolahi2022_logmass[2], color='lightgrey', alpha=0.5, lw=0 )\n",
    "            for ax in axes[K3+i:,i]:\n",
    "                ax.axvline( truths_from_lit[\"logmass_stellar\"], color='k', ls='-' )\n",
    "                ax.axvline( qs_saifolahi2022_logmass[1], color='k', ls=':' )\n",
    "                ax.axvspan( qs_saifolahi2022_logmass[0], qs_saifolahi2022_logmass[2], color='lightgrey', alpha=0.5, lw=0 )\n",
    "           \n",
    "    ax = axes[1,-1]\n",
    "    ax.plot( [],[], color='k', ls='--', label=\"Villaume et al. (2022)\")\n",
    "    ax.plot( [],[], color='k', ls=':', label=\"Saifollahi et al. (2022)\")\n",
    "    ax.plot( [],[], color='k', ls='-', label=\"van Dokkum et al. (2016)\")\n",
    "    ax.legend( loc=1, handlelength=1.6, fontsize=11, bbox_to_anchor=[1.02,1.5] )    \n",
    "    \n",
    "for i,par in enumerate(showpars): # qnt titles\n",
    "    ax = axes[i+K3, i]                \n",
    "#     ax.set_ylim(0, np.max(ymaxs[i,:])*1.05 )\n",
    "    \n",
    "    ann_params = dict( xy=(0,0), xycoords='axes fraction', ha='center', va='bottom')\n",
    "    \n",
    "    ax.annotate( qnt_titles['0'][par], xytext=(0.5,1.3),  color=color1, **ann_params )\n",
    "    ax.annotate( qnt_titles['1'][par], xytext=(0.5,1.05), color=color2, **ann_params )\n",
    "        \n",
    "    \n",
    "plt.savefig('figures/fig5.pdf', **saveparams)    \n",
    "plt.show()"
   ]
  },
  {
   "cell_type": "code",
   "execution_count": 14,
   "id": "fa6a3af6-30d8-4f59-b783-ae37e71191c5",
   "metadata": {},
   "outputs": [],
   "source": [
    "!open figures/fig5.pdf"
   ]
  },
  {
   "cell_type": "code",
   "execution_count": null,
   "id": "54981bc8-39b7-4e67-8125-e2f52bccc9ed",
   "metadata": {},
   "outputs": [],
   "source": []
  }
 ],
 "metadata": {
  "kernelspec": {
   "display_name": "Python 3 (ipykernel)",
   "language": "python",
   "name": "python3"
  },
  "language_info": {
   "codemirror_mode": {
    "name": "ipython",
    "version": 3
   },
   "file_extension": ".py",
   "mimetype": "text/x-python",
   "name": "python",
   "nbconvert_exporter": "python",
   "pygments_lexer": "ipython3",
   "version": "3.9.1"
  }
 },
 "nbformat": 4,
 "nbformat_minor": 5
}
