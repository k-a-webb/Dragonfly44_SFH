{
 "cells": [
  {
   "cell_type": "code",
   "execution_count": 1,
   "id": "clinical-plymouth",
   "metadata": {
    "code_folding": [
     0
    ],
    "scrolled": false
   },
   "outputs": [
    {
     "data": {
      "text/html": [
       "<style>.container { width:100% !important; }</style>"
      ],
      "text/plain": [
       "<IPython.core.display.HTML object>"
      ]
     },
     "metadata": {},
     "output_type": "display_data"
    }
   ],
   "source": [
    "# imports \n",
    "\n",
    "# make notebook span full width of window\n",
    "from IPython.core.display import display, HTML\n",
    "display(HTML(\"<style>.container { width:100% !important; }</style>\"))\n",
    "\n",
    "import matplotlib.pyplot as plt\n",
    "%matplotlib inline\n",
    "\n",
    "import os\n",
    "path_base = os.getcwd().split('Dragonfly44_SFH')[0] + \"Dragonfly44_SFH/\" # hack, but works\n",
    "path_fits = path_base+ \"fitting/output/fits/\"\n",
    "path_data = path_base+ \"data/\"\n",
    "\n",
    "import numpy as np\n",
    "\n",
    "from figure_style import *\n",
    "from copy import deepcopy\n"
   ]
  },
  {
   "cell_type": "code",
   "execution_count": 2,
   "id": "contemporary-frost",
   "metadata": {},
   "outputs": [],
   "source": [
    "# contains filenames of Prospector output\n",
    "from Dragonfly44_SFH.fitting.output.fits.fits_DF44_summary import *\n",
    "\n",
    "from Dragonfly44_SFH.utils.prospect_io import read_results\n",
    "\n",
    "file_data = path_data+'DF44/obs_phot_specKCWI_sigma110.h5' # needed to rebuild model\n"
   ]
  },
  {
   "cell_type": "code",
   "execution_count": 3,
   "id": "flush-catch",
   "metadata": {},
   "outputs": [],
   "source": [
    "showpars = ['mwa','t50','t90','logzsol','dust2']# \n",
    "showpar_labels = [r'$t_\\mathrm{age}$ (Gyr, Lookback time)',\\\n",
    "                  r'$t_\\mathrm{50}$ (Gyr)',\n",
    "                  r'$t_\\mathrm{90}$ (Gyr)',\\\n",
    "                  r'$\\log(~Z_\\ast/\\mathrm{Z}_\\odot~)$',\\\n",
    "                  r'$\\hat{\\tau}_\\mathrm{dust,~diffuse}$']\n",
    "ranges = [ (0,14), (0,14), (0,14), (-2,0.2), (0,4) ]\n"
   ]
  },
  {
   "cell_type": "code",
   "execution_count": 4,
   "id": "finished-ranch",
   "metadata": {},
   "outputs": [],
   "source": [
    "# build model to get prior draws\n",
    "\n",
    "result_file = path_fits+ fit_aD1_phot_specKCWI\n",
    "file_data = path_data+'DF44/obs_phot_specKCWI_sigma110.h5' # needed to rebuild model\n",
    "result, obs, model = read_results( result_file, file_data=file_data )\n",
    "zobs = float(model.params['zred'])\n",
    "\n",
    "from Dragonfly44_SFH.utils.prospect_io import get_prior_draws\n",
    "prior_draws = get_prior_draws( model, params=showpars, size=int(1e5) )"
   ]
  },
  {
   "cell_type": "code",
   "execution_count": 5,
   "id": "entire-marker",
   "metadata": {
    "code_folding": [
     2,
     30
    ]
   },
   "outputs": [],
   "source": [
    "\n",
    "from Dragonfly44_SFH.utils import transforms\n",
    "def get_posts( result, showpars, **extras ):\n",
    "    from Dragonfly44_SFH.utils import transforms\n",
    "\n",
    "    posts = []\n",
    "    for par in showpars:\n",
    "\n",
    "        if par in result['theta_index'].keys():\n",
    "            x = transforms.chain_to_param( param=par, **result )\n",
    "\n",
    "        elif par.startswith('t'):\n",
    "            try:\n",
    "                qt = float( par[1:] )/100.\n",
    "                x = transforms.chain_to_quantiles( cmf_quantiles=[qt], **result)\n",
    "            except:\n",
    "                pass\n",
    "        else:\n",
    "            print('Dont know what to do with {}'.format(par))\n",
    "            x = np.full_like( result['chain'][:,0], np.nan )\n",
    "\n",
    "\n",
    "        x = np.squeeze(x)\n",
    "        posts.append(x)\n",
    "\n",
    "    from dynesty.utils import resample_equal\n",
    "    wposts = resample_equal( np.stack(posts).T, result['weights'] )\n",
    "    \n",
    "    return wposts\n",
    "\n",
    "def make_results( result_file, showpars=[], ddict=None, ddict_key=None, verbose=True ):\n",
    "    from Dragonfly44_SFH.utils.prospect_io import read_results\n",
    "    result,obs,_ = read_results( result_file )\n",
    "    \n",
    "    if ddict is None: \n",
    "        ddict = {}\n",
    "        \n",
    "    ddict['result_file'] = result_file\n",
    "    if 'posts' not in ddict.keys(): ddict['posts'] = {}\n",
    "        \n",
    "    wposts = get_posts( result, showpars )\n",
    "    for par,wp in zip( showpars, wposts.T ):\n",
    "        ddict['posts'][par] = wp\n",
    "            \n",
    "    if obs['spectrum'] is not None:\n",
    "         snr_spec = ( obs['spectrum']/obs['unc'] )[obs['mask']]\n",
    "    else: snr_spec = [np.nan]\n",
    "    ddict['snr'] = snr_spec\n",
    "#     np.median( snr_spec )    \n",
    "\n",
    "    return ddict\n"
   ]
  },
  {
   "cell_type": "code",
   "execution_count": 6,
   "id": "satisfied-approval",
   "metadata": {},
   "outputs": [
    {
     "name": "stdout",
     "output_type": "stream",
     "text": [
      "Error: failed to produce model\n",
      "Error: failed to produce model\n",
      "Warning: 'mfrac' not in draws in file, not calculating stellar mass\n",
      "Error: failed to produce model\n",
      "Caution: No logmass or massmet/massmet_1 or total_mass parameter!\n",
      "Warning: Mass is missing, but model is None, can't fill... \n",
      "Warning: No logmass to convert ...\n",
      "Error: failed to produce model\n",
      "Caution: No logmass or massmet/massmet_1 or total_mass parameter!\n",
      "Warning: Mass is missing, but model is None, can't fill... \n",
      "Warning: No logmass to convert ...\n",
      "Error: failed to produce model\n",
      "Caution: No logmass or massmet/massmet_1 or total_mass parameter!\n",
      "Warning: Mass is missing, but model is None, can't fill... \n",
      "Warning: No logmass to convert ...\n",
      "Error: failed to produce model\n",
      "Caution: No logmass or massmet/massmet_1 or total_mass parameter!\n",
      "Warning: Mass is missing, but model is None, can't fill... \n",
      "Warning: No logmass to convert ...\n",
      "Error: failed to produce model\n",
      "Error: failed to produce model\n",
      "Error: failed to produce model\n",
      "Error: failed to produce model\n",
      "Error: failed to produce model\n"
     ]
    }
   ],
   "source": [
    "label = 'Extended'\n",
    "\n",
    "fits = {'spec':{}, 'phot':{}, 'both':{} }\n",
    "\n",
    "# it's okay that the model will fail to load\n",
    "# we don't need it here\n",
    "# if it is needed, provide file_data\n",
    "\n",
    "fits['phot'] = make_results( path_fits+ fit_aD1_phot, showpars )\n",
    "\n",
    "fits['spec']['full'] = make_results( path_fits+ fit_aD1_specKCWI_freemass, showpars )\n",
    "fits['spec']['snr5'] = make_results( path_fits+ fit_aD1_specKCWI_snr5, showpars )\n",
    "fits['spec']['snr10'] = make_results( path_fits+ fit_aD1_specKCWI_snr10, showpars )\n",
    "fits['spec']['snr15'] = make_results( path_fits+ fit_aD1_specKCWI_snr15, showpars )\n",
    "fits['spec']['snr20'] = make_results( path_fits+ fit_aD1_specKCWI_snr20, showpars )\n",
    "\n",
    "fits['both']['full'] = make_results( path_fits+ fit_aD1_phot_specKCWI, showpars )\n",
    "fits['both']['snr5'] = make_results( path_fits+ fit_aD1_phot_specKCWI_snr5, showpars )\n",
    "fits['both']['snr10'] = make_results( path_fits+ fit_aD1_phot_specKCWI_snr10, showpars )\n",
    "fits['both']['snr15'] = make_results( path_fits+ fit_aD1_phot_specKCWI_snr15, showpars )\n",
    "fits['both']['snr20'] = make_results( path_fits+ fit_aD1_phot_specKCWI_snr20, showpars )\n"
   ]
  },
  {
   "cell_type": "code",
   "execution_count": 7,
   "id": "disturbed-nature",
   "metadata": {},
   "outputs": [],
   "source": [
    "fits['phot']['plot_params'] = dict( mec='k', mfc='w', fmt=' ', marker='o', ecolor='gold', ms=10, elinewidth=2.2, capthick=2, lw=10 )\n",
    "fits['spec']['plot_params'] = dict( mec='k', mfc='w', fmt=' ', marker='s', ecolor='c', elinewidth=1.5, capthick=1.5, ms=8 )\n",
    "fits['both']['plot_params'] = dict( mec='k', mfc='r', fmt=' ', marker='D', ecolor='r', ms=8 )\n",
    "\n",
    "color_prior = '0.3'\n",
    "\n",
    "from matplotlib.legend_handler import HandlerErrorbar\n",
    "import matplotlib.patheffects as fx\n"
   ]
  },
  {
   "cell_type": "code",
   "execution_count": 8,
   "id": "hydraulic-speech",
   "metadata": {
    "code_folding": [
     4,
     22,
     45,
     85,
     110
    ]
   },
   "outputs": [
    {
     "data": {
      "image/png": "[encoded data removed]",
      "text/plain": [
       "<Figure size 1016x613.8 with 20 Axes>"
      ]
     },
     "metadata": {
      "needs_background": "light"
     },
     "output_type": "display_data"
    }
   ],
   "source": [
    "\n",
    "Npars = len(showpars)\n",
    "quantiles = [0.05,0.16,0.5,0.84,0.95]\n",
    "\n",
    "if True: # figure tweaks\n",
    "    \n",
    "    fig, axes = plt.subplots(4,Npars,figsize=(fig_width_two,0.45*textheight), \\\n",
    "                             gridspec_kw={'height_ratios':[0.3,0.05,1,0.07]}, sharex=False, sharey=False )\n",
    "    axes1 = axes[0,:].flatten().tolist() \n",
    "    axes_off = axes[1,:].flatten().tolist() \n",
    "    axes2 = axes[2,:].flatten().tolist() \n",
    "    axes3 = axes[3,:].flatten().tolist() \n",
    "        \n",
    "    for ax in axes_off:\n",
    "        ax.axis('off')\n",
    "        \n",
    "    for ax in axes1+axes2+axes3:    \n",
    "        ax.tick_params(direction='out', length=5, which='major')\n",
    "        ax.tick_params(direction='out', length=3, which='minor')\n",
    "        \n",
    "    fig.subplots_adjust( wspace=0.1, hspace=0.01 )\n",
    "    \n",
    "if True: # priors\n",
    "    \n",
    "    for ii in range(Npars):\n",
    "        par = showpars[ii]\n",
    "        ax1 = axes1[ii]\n",
    "        bin_range = ranges[ii]\n",
    "\n",
    "        bins = np.linspace( bin_range[0], bin_range[1], 100 )\n",
    "        n, b,_ = ax1.hist( prior_draws[par], bins=bins, histtype='step', color=color_prior, orientation='vertical', density=True, zorder=3 )\n",
    "        nl = np.zeros_like(n)\n",
    "        b=b[:-1]\n",
    "\n",
    "        qs = np.quantile( prior_draws[par], q=quantiles )\n",
    "        sel = (qs[0]<b)&(b<qs[-1])\n",
    "        ax1.fill_between( b[sel], nl[sel], n[sel], color=color_prior, lw=0, alpha=0.1, zorder=0  )\n",
    "        sel = (qs[1]<b)&(b<qs[-2])\n",
    "        ax1.fill_between( b[sel], nl[sel], n[sel], color=color_prior, lw=0, alpha=0.1, zorder=1  )\n",
    "        sel = np.argmin(np.abs( n - qs[2] ))\n",
    "        ax1.plot( [qs[2],qs[2]],[0,n[sel]], color=color_prior, lw=0.7, zorder=2 )\n",
    "        \n",
    "        axes2[ii].axvline( qs[2], color=color_prior, lw=0.7, zorder=-10 )\n",
    "        axes3[ii].axvline( qs[2], color=color_prior, lw=0.7, zorder=-10 )\n",
    "                \n",
    "if True: # phot \n",
    "    \n",
    "    for ii in range(Npars):\n",
    "        par = showpars[ii]\n",
    "        ax2 = axes3[ii]\n",
    "\n",
    "        qs = np.quantile( fits['phot']['posts'][par], q=quantiles )\n",
    "\n",
    "        y_snr = 0\n",
    "        ax2.set_ylim(-1.2,1.2)\n",
    "        xerr1 = [[qs[2]-qs[0]],[qs[-1]-qs[2]]]\n",
    "        xerr2 = [[qs[2]-qs[1]],[qs[-2]-qs[2]]]\n",
    "        \n",
    "        ax2.errorbar( qs[2], y_snr, yerr=0, xerr=xerr1, zorder=1, capsize=3, **fits['phot']['plot_params']  )\n",
    "        ax2.errorbar( qs[2], y_snr, yerr=0, xerr=xerr2, zorder=1, capsize=6, **fits['phot']['plot_params']  )\n",
    "        \n",
    "if True: # both+specs \n",
    "    for snr_key in [ 'snr5','snr10','snr15','snr20','full' ]: \n",
    "        for i,key in enumerate(['both','spec']):\n",
    "            \n",
    "            snr = fits[key][snr_key]['snr']\n",
    "            qs_snr_obs =  np.quantile( snr, q=[0.16,0.5,0.84] )\n",
    "            if i>0:  dqs_snr_obs = 0\n",
    "            else:    dqs_snr_obs = np.diff( qs_snr_obs ).reshape(2,-1)\n",
    "            y_snr = qs_snr_obs[1] - i*0.1*qs_snr_obs[1]\n",
    "            \n",
    "            for ii,par in enumerate(showpars):\n",
    "#                 if (par in ['dust2']) and (key in ['spec']): continue\n",
    "                \n",
    "                ax2 = axes2[ii]\n",
    "\n",
    "                qs = np.quantile( fits[key][snr_key]['posts'][par], q=quantiles )\n",
    "                xerr1 = [[qs[2]-qs[0]],[qs[-1]-qs[2]]]\n",
    "                xerr2 = [[qs[2]-qs[1]],[qs[-2]-qs[2]]]\n",
    "\n",
    "                ax2.errorbar( qs[2], y_snr, yerr=dqs_snr_obs, xerr=xerr1, zorder=1, capsize=3, lw=0.7, \n",
    "                              **fits[key]['plot_params']  )\n",
    "                ax2.errorbar( qs[2], y_snr, yerr=None,        xerr=xerr2, zorder=1, capsize=6, \n",
    "                              **fits[key]['plot_params']  )\n",
    "                \n",
    "if True: # legend \n",
    "    \n",
    "    ax = axes[0,0]\n",
    "    xlim,ylim = ax.get_xlim(), ax.get_ylim()\n",
    "    \n",
    "#     ax.errorbar( [-1],[-1],xerr=[1], yerr=[1], **params_both, label='Full-spectrum + SED')\n",
    "#     ax.errorbar( [-1],[-1],xerr=[1], yerr=[1], **params_spec, label='Full-spectrum')\n",
    "    xys = [ [-1],[-1],[15],[1] ]\n",
    "    h1 = ax.errorbar( *xys, **fits['both']['plot_params'], label='Full-spectrum + Photometry')\n",
    "    h2 = ax.errorbar( *xys, **fits['spec']['plot_params'], label='Full-spectrum')\n",
    "    h3 = ax.errorbar( *xys, **fits['phot']['plot_params'], label='Photometry')\n",
    "    \n",
    "    handler_map={ type(h1): HandlerErrorbar(xerr_size=1, yerr_size=0.7),\n",
    "                  type(h2): HandlerErrorbar(xerr_size=1, yerr_size=0.7),\n",
    "                  type(h3): HandlerErrorbar(xerr_size=1, yerr_size=0.7),\n",
    "                }\n",
    "    \n",
    "#     ax.fill_between( [],[],color='k', alpha=0.5, label='Photometry')\n",
    "    ax.legend(loc=3, handlelength=3, fontsize=12, bbox_to_anchor=[-0.04,1.02],\n",
    "              handler_map=handler_map,  # adjust xerr_size to suit the plot\n",
    "             )    \n",
    "    \n",
    "    ax.set_xlim( xlim ) \n",
    "    ax.set_ylim( ylim )\n",
    "        \n",
    "if True: # tweaks\n",
    "    \n",
    "    for ii in range(Npars):\n",
    "        axes1[ii].set( xlim=ranges[ii], xticklabels=[], yticklabels=[] )\n",
    "        axes2[ii].set( xlim=ranges[ii], xticklabels=[], )\n",
    "        axes3[ii].set( xlim=ranges[ii], yticklabels=[], yticks=[] )\n",
    "        axes2[ii].set( xlim=ranges[ii], yscale='log', ylim=(4.5,105) ) \n",
    "        \n",
    "        axes3[ii].set_xlabel( showpar_labels[ii] ) \n",
    "        if ii>0:\n",
    "            axes2[ii].set_yticklabels([])\n",
    "    \n",
    "    axes2[0].set_ylabel(r\"S/N$_\\mathrm{~spec}$\", fontsize=14 )        \n",
    "    axes1[0].set_ylabel(\"p\", fontsize=14 )        \n",
    "\n",
    "ann_params = dict( xy=(0,0), xycoords='axes fraction', ha='left', va='top', fontsize=16)\n",
    "text = axes1[0].annotate('Priors', xytext=(0.03,0.96), **ann_params )\n",
    "text.set_path_effects([ fx.Stroke(linewidth=3, foreground='1.0'), fx.Normal() ])\n",
    "text = axes2[0].annotate('Posteriors', xytext=(0.03,0.98), **ann_params )\n",
    "text.set_path_effects([ fx.Stroke(linewidth=3, foreground='1.0'), fx.Normal() ])\n",
    "    \n",
    "    \n",
    "plt.savefig( \"figures/figB4.pdf\", **saveparams )\n",
    "plt.show()"
   ]
  },
  {
   "cell_type": "markdown",
   "id": "adjustable-constitution",
   "metadata": {},
   "source": [
    "Note that in the figure published in Webb+2022, the markers for spec+phot and spec-only were swapped...\n",
    "\n",
    "Hence the uncertainties on the dust2 values **were** erroneous (reflecting that the spectrum alone, which had it's continuum flattened, provides no constraints on the dust!)"
   ]
  }
 ],
 "metadata": {
  "kernelspec": {
   "display_name": "Python 3",
   "language": "python",
   "name": "python3"
  },
  "language_info": {
   "codemirror_mode": {
    "name": "ipython",
    "version": 3
   },
   "file_extension": ".py",
   "mimetype": "text/x-python",
   "name": "python",
   "nbconvert_exporter": "python",
   "pygments_lexer": "ipython3",
   "version": "3.9.1"
  }
 },
 "nbformat": 4,
 "nbformat_minor": 5
}
